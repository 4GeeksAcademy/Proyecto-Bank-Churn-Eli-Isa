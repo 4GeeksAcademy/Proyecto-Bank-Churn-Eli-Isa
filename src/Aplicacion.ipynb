{
 "cells": [
  {
   "cell_type": "code",
   "execution_count": null,
   "metadata": {},
   "outputs": [],
   "source": [
    "from pickle import load\n",
    "import streamlit as st\n",
    "from sklearn.preprocessing import StandardScaler\n",
    "import joblib\n",
    "import os\n",
    "\n",
    "model = load(open(\"Boosting_65.sav\", \"rb\"))\n",
    "scaler = joblib.load('scaler_model.joblib')\n",
    "\n",
    "st.title(\"Predicción del abandono del cliente\")\n",
    "\n",
    "\n",
    "age =  18.0\n",
    "prod = 0\n",
    "active = \"Si\"\n",
    "sex = \"Hombre\"\n",
    "balance =0\n",
    "countries = \"Francia\"\n",
    "\n",
    "#Mem-no-products= active*prod\n",
    "#Cred-Bal-Sal=cred*balance/sal\n",
    "cred= 400\n",
    "sal=10\n",
    "tenure = 0\n",
    "\n",
    "active_n = 0 if active == 'No' else 1\n",
    "sex_n= 0 if sex== 'Mujer' else 1\n",
    "tenure_age=tenure/age\n",
    "mem_no_prod=active_n*prod\n",
    "cred_bal_sal=cred*balance/sal\n",
    "bal_sal=balance/sal\n",
    "\n",
    "if countries == 'Francia':\n",
    "    countries_n = 1\n",
    "elif countries == 'Alemania':\n",
    "    countries_n = 2\n",
    "else:\n",
    "    countries_n = 3\n",
    "\n",
    "\n",
    "data_for_norm=[[age, prod, active_n, sex_n, balance, countries_n, mem_no_prod,cred_bal_sal, bal_sal]]\n",
    "data_norm = scaler.transform(data_for_norm)\n",
    "data = [[data_norm[0][0], data_norm[0][1], data_norm[0][2], data_norm[0][3],data_norm[0][4]],data_norm[0][5],data_norm[0][6],data_norm[0][7],data_norm[0][8]]\n",
    "\n"
   ]
  },
  {
   "cell_type": "code",
   "execution_count": null,
   "metadata": {},
   "outputs": [],
   "source": [
    "data_norm\n"
   ]
  },
  {
   "cell_type": "code",
   "execution_count": null,
   "metadata": {},
   "outputs": [],
   "source": [
    "\n",
    "prediction = 'No' if round(model.predict(data_norm)[0]) == 0 else 'Si' \n",
    "    \n",
    "print(\"¿El clinete tiene probabilidad de abandono?:\", prediction)"
   ]
  }
 ],
 "metadata": {
  "kernelspec": {
   "display_name": "Python 3",
   "language": "python",
   "name": "python3"
  },
  "language_info": {
   "codemirror_mode": {
    "name": "ipython",
    "version": 3
   },
   "file_extension": ".py",
   "mimetype": "text/x-python",
   "name": "python",
   "nbconvert_exporter": "python",
   "pygments_lexer": "ipython3",
   "version": "3.11.4"
  }
 },
 "nbformat": 4,
 "nbformat_minor": 2
}
