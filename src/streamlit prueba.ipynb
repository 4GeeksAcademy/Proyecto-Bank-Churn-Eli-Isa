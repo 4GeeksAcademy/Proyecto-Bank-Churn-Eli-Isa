{
 "cells": [
  {
   "cell_type": "code",
   "execution_count": 1,
   "metadata": {},
   "outputs": [
    {
     "name": "stderr",
     "output_type": "stream",
     "text": [
      "2024-03-17 10:20:17.396 \n",
      "  \u001b[33m\u001b[1mWarning:\u001b[0m to view this Streamlit app on a browser, run it with the following\n",
      "  command:\n",
      "\n",
      "    streamlit run /home/vscode/.local/lib/python3.11/site-packages/ipykernel_launcher.py [ARGUMENTS]\n"
     ]
    }
   ],
   "source": [
    "import streamlit as st\n",
    "\n",
    "# Lista de diapositivas\n",
    "slides = [\n",
    "    {\"title\": \"Diapositiva 1\", \"content\": \"Contenido de la Diapositiva 1\"},\n",
    "    {\"title\": \"Diapositiva 2\", \"content\": \"Contenido de la Diapositiva 2\"},\n",
    "    {\"title\": \"Diapositiva 3\", \"content\": \"Contenido de la Diapositiva 3\"}\n",
    "]\n",
    "\n",
    "# Índice de la diapositiva actual\n",
    "slide_index = st.sidebar.radio(\"Ir a la diapositiva\", range(len(slides)), format_func=lambda x: slides[x][\"title\"])\n",
    "\n",
    "# Mostrar la diapositiva actual\n",
    "st.title(slides[slide_index][\"title\"])\n",
    "st.write(slides[slide_index][\"content\"])"
   ]
  }
 ],
 "metadata": {
  "kernelspec": {
   "display_name": "Python 3",
   "language": "python",
   "name": "python3"
  },
  "language_info": {
   "codemirror_mode": {
    "name": "ipython",
    "version": 3
   },
   "file_extension": ".py",
   "mimetype": "text/x-python",
   "name": "python",
   "nbconvert_exporter": "python",
   "pygments_lexer": "ipython3",
   "version": "3.11.4"
  }
 },
 "nbformat": 4,
 "nbformat_minor": 2
}
